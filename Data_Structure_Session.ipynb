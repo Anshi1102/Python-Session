{
  "nbformat": 4,
  "nbformat_minor": 0,
  "metadata": {
    "colab": {
      "provenance": []
    },
    "kernelspec": {
      "name": "python3",
      "display_name": "Python 3"
    },
    "language_info": {
      "name": "python"
    }
  },
  "cells": [
    {
      "cell_type": "code",
      "execution_count": null,
      "metadata": {
        "colab": {
          "base_uri": "https://localhost:8080/"
        },
        "id": "gFoX-NvB6ihK",
        "outputId": "9da703ef-9b4f-44b8-865f-0b669d017498"
      },
      "outputs": [
        {
          "output_type": "stream",
          "name": "stdout",
          "text": [
            "My name is Durgesh\n"
          ]
        }
      ],
      "source": [
        "a= 'My name is Durgesh'\n",
        "print(a)"
      ]
    },
    {
      "cell_type": "code",
      "source": [
        "# Length of charactars\n",
        "len(a)"
      ],
      "metadata": {
        "colab": {
          "base_uri": "https://localhost:8080/"
        },
        "id": "CaJI_jjQ7Hr-",
        "outputId": "ebd7cf68-b80a-439b-aa03-1d93fa1dc88b"
      },
      "execution_count": null,
      "outputs": [
        {
          "output_type": "execute_result",
          "data": {
            "text/plain": [
              "18"
            ]
          },
          "metadata": {},
          "execution_count": 3
        }
      ]
    },
    {
      "cell_type": "code",
      "source": [
        "# Count any specific charactar occurence in my String\n",
        "a.count('e')"
      ],
      "metadata": {
        "colab": {
          "base_uri": "https://localhost:8080/"
        },
        "id": "mmBlwcyK7dEc",
        "outputId": "0ce05612-6113-4a3d-b988-eca91ce01967"
      },
      "execution_count": null,
      "outputs": [
        {
          "output_type": "execute_result",
          "data": {
            "text/plain": [
              "2"
            ]
          },
          "metadata": {},
          "execution_count": 4
        }
      ]
    },
    {
      "cell_type": "code",
      "source": [
        "a ='Bangalore'"
      ],
      "metadata": {
        "id": "3Zppg3B77yqP"
      },
      "execution_count": null,
      "outputs": []
    },
    {
      "cell_type": "code",
      "source": [
        "print(a)"
      ],
      "metadata": {
        "colab": {
          "base_uri": "https://localhost:8080/"
        },
        "id": "FU7t0PQX7_Zs",
        "outputId": "4b844e63-984f-436d-afa9-43386b74b165"
      },
      "execution_count": null,
      "outputs": [
        {
          "output_type": "stream",
          "name": "stdout",
          "text": [
            "Bangalore\n"
          ]
        }
      ]
    },
    {
      "cell_type": "code",
      "source": [
        "a=5\n",
        "# value 5 in my variable a\n",
        "if a>6: # False\n",
        "  print('Yes')\n",
        "else:\n",
        "  print('No')\n"
      ],
      "metadata": {
        "colab": {
          "base_uri": "https://localhost:8080/"
        },
        "id": "J0JOkNDE-SeE",
        "outputId": "56817441-5d92-4c3d-c5a7-a54fc18224e3"
      },
      "execution_count": null,
      "outputs": [
        {
          "output_type": "stream",
          "name": "stdout",
          "text": [
            "No\n"
          ]
        }
      ]
    },
    {
      "cell_type": "code",
      "source": [
        "# Search in a String\n",
        "# ITEM NAME , COST\n",
        "Item_Name = 'Macbook Pro 5'\n",
        "# Pro\n",
        "# 3 Letters\n",
        "if 'Pro' in Item_Name: # 3 -- 'Pro' # False\n",
        "  print('Yes') # Yes\n",
        "else:\n",
        "  print('No')\n",
        "\n",
        "\n"
      ],
      "metadata": {
        "id": "B5-NCbpU8AiI"
      },
      "execution_count": null,
      "outputs": []
    },
    {
      "cell_type": "code",
      "source": [
        "a= 14\n",
        "b= 16\n",
        "c= 17\n",
        "# Print largest of all 3\n",
        "if a>b and a>c:\n",
        "  print('A is largest')\n",
        "elif b>a and b>c:\n",
        "  print('B is largest')\n",
        "else:\n",
        "  print('C is largest')"
      ],
      "metadata": {
        "id": "1CLpVuVo_O2b"
      },
      "execution_count": null,
      "outputs": []
    },
    {
      "cell_type": "code",
      "source": [
        "number1 = int(input('Enter yout number 1: ')) # '15' # 15\n",
        "number2 = int(input('Enter yout number 2: '))\n",
        "c= number1+number2\n",
        "print('Total of number1 and number2 is :', c)"
      ],
      "metadata": {
        "colab": {
          "base_uri": "https://localhost:8080/"
        },
        "id": "4OXikbqUBR0S",
        "outputId": "4e221ebf-32ad-4969-d1f9-1bd3e357afb2"
      },
      "execution_count": null,
      "outputs": [
        {
          "output_type": "stream",
          "name": "stdout",
          "text": [
            "Enter yout number 1: 345\n",
            "Enter yout number 2: 123\n",
            "Total of number1 and number2 is : 468\n"
          ]
        }
      ]
    },
    {
      "cell_type": "code",
      "source": [
        "# A number from the User and you have to check that number is divisible by 5 or not ?"
      ],
      "metadata": {
        "id": "AgwVV3gzDd6z"
      },
      "execution_count": null,
      "outputs": []
    },
    {
      "cell_type": "code",
      "source": [
        "a = int(input(\"Enter your number:\"))\n",
        "if a%5 == 0:\n",
        "  print('Yes')\n",
        "else:\n",
        "  print('No')"
      ],
      "metadata": {
        "colab": {
          "base_uri": "https://localhost:8080/"
        },
        "id": "_7kRUJ2RDxey",
        "outputId": "095941a1-e733-437a-dce3-42d53d704954"
      },
      "execution_count": null,
      "outputs": [
        {
          "output_type": "stream",
          "name": "stdout",
          "text": [
            "Enter your number:15\n",
            "Yes\n"
          ]
        }
      ]
    }
  ]
}